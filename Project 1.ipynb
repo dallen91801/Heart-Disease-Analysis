{
 "cells": [
  {
   "cell_type": "markdown",
   "id": "d5db8e75-5552-4f43-9316-6e9ab3532564",
   "metadata": {},
   "source": [
    "# Project Title\n",
    "## Participants:\n",
    "### Data Source\n",
    "\n"
   ]
  },
  {
   "cell_type": "code",
   "execution_count": null,
   "id": "6d14cb1c-1389-4b73-892e-9b44caf7c8b7",
   "metadata": {},
   "outputs": [],
   "source": [
    "# Heart disease project"
   ]
  },
  {
   "cell_type": "code",
   "execution_count": null,
   "id": "3e02a55f-de8c-4092-ab36-e78c422744a1",
   "metadata": {},
   "outputs": [],
   "source": [
    "# Import dependencies\n",
    "import pandas as pd\n",
    "import numpy as np\n",
    "import matplot.lib.pyplot as plt\n",
    "from scipy.stats import linregress\n",
    "from pathlib import Path"
   ]
  },
  {
   "cell_type": "code",
   "execution_count": null,
   "id": "d040c057-4691-45d0-ace6-0922970c25d0",
   "metadata": {},
   "outputs": [],
   "source": [
    "#Import csv file"
   ]
  },
  {
   "cell_type": "code",
   "execution_count": null,
   "id": "b9f954f8-3c2e-4c33-835a-f1f6939f583f",
   "metadata": {},
   "outputs": [],
   "source": [
    "#Hypothesis#1\n",
    "#Men are most likely to develop heart disease than women (0 is the no disease, 1 = disease)\n",
    "#Bar chart (Target vs gender), pie chart"
   ]
  },
  {
   "cell_type": "code",
   "execution_count": null,
   "id": "0dbac120-e9ad-4af4-a6fe-62563d432a25",
   "metadata": {},
   "outputs": [],
   "source": [
    "#Hypothesis#2 \n",
    "#Older patients are more likely to have exercise-induced angina and abnormal ST depression levels.\n",
    "#Bins to divide age into 5 groups: 25-40, 41-50. 51-60, 61-70, >71"
   ]
  },
  {
   "cell_type": "code",
   "execution_count": null,
   "id": "0c9b7cbc-2156-4eae-8487-56ca268eeae5",
   "metadata": {},
   "outputs": [],
   "source": [
    "#Hypothesis#3 \n",
    "#Patients with fasting blood sugar > 120 mg/dl are more likely to have heart disease\n"
   ]
  },
  {
   "cell_type": "code",
   "execution_count": null,
   "id": "a6e64fa9-63d3-489e-848e-dd5b5985f0ab",
   "metadata": {},
   "outputs": [],
   "source": [
    "#Hypothesis#4\n",
    " #Patients with higher cholesterol levels and higher resting blood pressure are more likely to have chest pain (angina).\n"
   ]
  },
  {
   "cell_type": "code",
   "execution_count": null,
   "id": "1c876256-1456-483b-b7d9-bc7041c9c492",
   "metadata": {},
   "outputs": [],
   "source": [
    "#Hypothesis#5\n",
    "#Patients with a higher number of major vessels (colored by fluoroscopy) are less likely to have heart disease"
   ]
  },
  {
   "cell_type": "code",
   "execution_count": null,
   "id": "54ce965e-4ebf-45dc-a93d-facca2d84d47",
   "metadata": {},
   "outputs": [],
   "source": [
    "#Hypothesis#6\n",
    "#Patients with a higher maximum heart rate achieved during exercise are less likely to have heart disease."
   ]
  },
  {
   "cell_type": "code",
   "execution_count": null,
   "id": "f5dae87c-2286-40e6-9b75-d13c7b68ba2f",
   "metadata": {},
   "outputs": [],
   "source": [
    "#Generate a heatmap to see corelations between the data\n"
   ]
  },
  {
   "cell_type": "code",
   "execution_count": null,
   "id": "83ce908d-659c-4d4b-b98e-63ed7176f033",
   "metadata": {},
   "outputs": [],
   "source": []
  },
  {
   "cell_type": "code",
   "execution_count": null,
   "id": "5f03e677-2357-4202-908f-bb6d82a4c3a4",
   "metadata": {},
   "outputs": [],
   "source": []
  }
 ],
 "metadata": {
  "kernelspec": {
   "display_name": "Python 3 (ipykernel)",
   "language": "python",
   "name": "python3"
  },
  "language_info": {
   "codemirror_mode": {
    "name": "ipython",
    "version": 3
   },
   "file_extension": ".py",
   "mimetype": "text/x-python",
   "name": "python",
   "nbconvert_exporter": "python",
   "pygments_lexer": "ipython3",
   "version": "3.12.3"
  }
 },
 "nbformat": 4,
 "nbformat_minor": 5
}
